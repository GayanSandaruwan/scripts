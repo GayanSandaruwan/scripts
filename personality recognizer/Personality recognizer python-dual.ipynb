{
 "cells": [
  {
   "cell_type": "code",
   "execution_count": 2,
   "metadata": {},
   "outputs": [],
   "source": [
    "import subprocess"
   ]
  },
  {
   "cell_type": "code",
   "execution_count": 3,
   "metadata": {},
   "outputs": [
    {
     "name": "stdout",
     "output_type": "stream",
     "text": [
      "b'Hello World\\n'\n"
     ]
    }
   ],
   "source": [
    "print(subprocess.Popen(\"echo Hello World\", shell=True, stdout=subprocess.PIPE).stdout.read())"
   ]
  },
  {
   "cell_type": "code",
   "execution_count": 33,
   "metadata": {},
   "outputs": [
    {
     "name": "stdout",
     "output_type": "stream",
     "text": [
      "b'%JAVA_HOME%\\n'\n"
     ]
    }
   ],
   "source": [
    "jdk_path = subprocess.Popen(\"echo %JAVA_HOME%\", shell=True, stdout=subprocess.PIPE).stdout.readline()    # to make sure jdk path is set\n",
    "print(jdk_path)"
   ]
  },
  {
   "cell_type": "code",
   "execution_count": 143,
   "metadata": {},
   "outputs": [],
   "source": [
    "os=\"LINUX\" # LIINUX or WINDOWS"
   ]
  },
  {
   "cell_type": "code",
   "execution_count": 145,
   "metadata": {},
   "outputs": [],
   "source": [
    "# don't change these unless you changed the location of these folders\n",
    "if(os == \"LINUX\"):\n",
    "    weka_path=\"./weka-3-4/weka.jar\"\n",
    "    COMMONS_CLI=\"./lib/commons-cli-1.0.jar\" \n",
    "    JMRC=\"./lib/jmrc.jar\"\n",
    "    LIBS=\".:\"+weka_path+\":\"+COMMONS_CLI+\":\"+JMRC+\":\"+'bin/'     #+appDir+\";\"\n",
    "    LINE_ENDING=\"\\n\"\n",
    "    LINE_END_CHAR_COUNT=1\n",
    "elif(os== \"WINDOWS\"):\n",
    "    weka_path=\"weka-3-4\\weka.jar\"\n",
    "    COMMONS_CLI=\"lib\\commons-cli-1.0.jar\" \n",
    "    JMRC=\"lib\\jmrc.jar\"\n",
    "    LIBS=weka_path+\";\"+COMMONS_CLI+\";\"+JMRC+\";\"+'bin\\\\'     #+appDir+\";\"\n",
    "    LINE_ENDING=\"\\r\\n\"\n",
    "    LINE_END_CHAR_COUNT=2"
   ]
  },
  {
   "cell_type": "code",
   "execution_count": 146,
   "metadata": {},
   "outputs": [
    {
     "data": {
      "text/plain": [
       "'.:./weka-3-4/weka.jar:./lib/commons-cli-1.0.jar:./lib/jmrc.jar:bin/'"
      ]
     },
     "execution_count": 146,
     "metadata": {},
     "output_type": "execute_result"
    }
   ],
   "source": [
    "LIBS"
   ]
  },
  {
   "cell_type": "code",
   "execution_count": 147,
   "metadata": {},
   "outputs": [],
   "source": [
    "# in windows\n",
    "#appDir = \"E:\\CiperLabs\\\\fiver\\scripts\\personality recognizer\\PersonalityRecognizer\"     #Directory where the java application is located\n",
    "# in linux\n",
    "appDir = \"/media/gayan/Education/CiperLabs/fiver/scripts/personality recognizer/PersonalityRecognizer\""
   ]
  },
  {
   "cell_type": "code",
   "execution_count": 148,
   "metadata": {},
   "outputs": [],
   "source": [
    "import os\n",
    "\n",
    "class cd:\n",
    "    \"\"\"Context manager for changing the current working directory\"\"\"\n",
    "    def __init__(self, newPath):\n",
    "        self.newPath = os.path.expanduser(newPath)\n",
    "\n",
    "    def __enter__(self):\n",
    "        self.savedPath = os.getcwd()\n",
    "        os.chdir(self.newPath)\n",
    "\n",
    "    def __exit__(self, etype, value, traceback):\n",
    "        os.chdir(self.savedPath)"
   ]
  },
  {
   "cell_type": "code",
   "execution_count": 149,
   "metadata": {},
   "outputs": [],
   "source": [
    "#Change the properties here to change the model parameters and files\n",
    "\n",
    "\n",
    "# -d,--directory\t\tCorpus analysis mode. Input must be a directory with \n",
    "#                          multiple text files, features are standardized over \n",
    "#                          the corpus and the recognizer outputs a personality \n",
    "#                          estimate for each text file.\n",
    "\n",
    "input_type_is_dir = \"-d\"  #(\"set \"-d\" if folder or \"\" if file\")\n",
    "\n",
    "# -i,--input       \tInput file or directory (required)\n",
    "input_file_folder = \"examples\" \n",
    "\n",
    "#-m,--model       \tModel to use for computing scores (default 4). Options:\n",
    "#  \t              \t\t\t\t1 = Linear Regression\n",
    "#                \t\t\t\t2 = M5' Model Tree\n",
    "#              \t\t\t\t\t3 = M5' Regression Tree\n",
    "#              \t\t\t\t\t4 = Support Vector Machine with Linear Kernel (SMOreg)\n",
    "\n",
    "model = \"3\" \n",
    "\n",
    "# -t,--type\t\tSelects the type of model to use (default 1). The appropriate\n",
    "#                         \t\tmodel depends on the language sample (written or \n",
    "#   \t\t\t\t\tspoken), and whether observed personality (as perceived \n",
    "#   \t\t\t\t\tby external judges) or self-assessed personality (the \n",
    "#   \t\t\t\t\twriter/speaker's perception) needs to be estimated from the \n",
    "#   \t\t\t\t\ttext. Options:\n",
    "#   \t\t\t\t\t\t1 = Observed personality from spoken language\n",
    "#                                 \t\t2 = Self-assessed personality from written language\n",
    "model_type = \"2\""
   ]
  },
  {
   "cell_type": "code",
   "execution_count": 150,
   "metadata": {},
   "outputs": [],
   "source": [
    "def execPR():\n",
    "    output = []\n",
    "    # enter the app directory\n",
    "    with cd(appDir):\n",
    "       # we are in app directory when exiting the block we exit from the directory\n",
    "        command = 'java -Xmx512m -classpath '+ LIBS+ ' recognizer.PersonalityRecognizer '+ input_type_is_dir + ' -i '+input_file_folder + ' -m '+model+' -t '+model_type\n",
    "        p = subprocess.Popen(command, shell=True, stdout=subprocess.PIPE, stderr=subprocess.STDOUT)\n",
    "        print(command)\n",
    "        for line in p.stdout.readlines():\n",
    "            output.append(line.decode(\"utf-8\"))\n",
    "        retval = p.wait()\n",
    "    return output"
   ]
  },
  {
   "cell_type": "code",
   "execution_count": 151,
   "metadata": {},
   "outputs": [
    {
     "name": "stdout",
     "output_type": "stream",
     "text": [
      "java -Xmx512m -classpath .:./weka-3-4/weka.jar:./lib/commons-cli-1.0.jar:./lib/jmrc.jar:bin/ recognizer.PersonalityRecognizer -d -i examples -m 3 -t 2\n"
     ]
    }
   ],
   "source": [
    "outputstream = execPR()"
   ]
  },
  {
   "cell_type": "code",
   "execution_count": 153,
   "metadata": {},
   "outputs": [
    {
     "name": "stdout",
     "output_type": "stream",
     "text": [
      "Amy.txt\n",
      "John.txt\n",
      "Matt.txt\n",
      "Rob.txt\n"
     ]
    }
   ],
   "source": [
    "output=[]                 #{filename,textprop,LIWC,MRC,extra,emoti,agree,consc,openn}\n",
    "results = []\n",
    "outStarted = False\n",
    "for line in outputstream:\n",
    "    if(line.startswith(\"Computing features for file\")):\n",
    "        name = line[28:][:-(3+LINE_END_CHAR_COUNT)]\n",
    "        out = {}\n",
    "        out[\"name\"] =name\n",
    "        index_of_arr = outputstream.index(line)\n",
    "        out[\"textprop\"] = outputstream[index_of_arr+1][:-LINE_END_CHAR_COUNT]\n",
    "        out[\"LIWC\"] =outputstream[index_of_arr+2][:-LINE_END_CHAR_COUNT]\n",
    "        out[\"MRC\"] = outputstream[index_of_arr+3][:-LINE_END_CHAR_COUNT]\n",
    "        output.append(out)\n",
    "        print(name)\n",
    "    elif(line.startswith(\"File              \\tExtra\\tEmoti\\tAgree\\tConsc\\tOpenn\"+LINE_ENDING)):\n",
    "        outStarted = True\n",
    "    elif(line.startswith(LINE_ENDING)):\n",
    "        outStarted = False\n",
    "    elif(outStarted):\n",
    "        results.append(line[:-LINE_END_CHAR_COUNT])"
   ]
  },
  {
   "cell_type": "code",
   "execution_count": 155,
   "metadata": {},
   "outputs": [],
   "source": [
    "for i in range(len(output)):\n",
    "    res = results[i].split(\t)                # Splitting by tab\n",
    "    output[i][\"extra\"] = res[1]\n",
    "    output[i][\"emoti\"] = res[2]\n",
    "    output[i][\"agree\"] = res[3]\n",
    "    output[i][\"consc\"] = res[4]\n",
    "    output[i][\"openn\"] = res[5]"
   ]
  },
  {
   "cell_type": "code",
   "execution_count": 168,
   "metadata": {},
   "outputs": [],
   "source": [
    "import csv\n",
    "toCSV = output\n",
    "keys = toCSV[0].keys()\n",
    "with open('output.csv', 'w') as output_file:\n",
    "    dict_writer = csv.DictWriter(output_file, keys)\n",
    "    dict_writer.writeheader()\n",
    "    dict_writer.writerows(toCSV)"
   ]
  },
  {
   "cell_type": "code",
   "execution_count": null,
   "metadata": {},
   "outputs": [],
   "source": []
  }
 ],
 "metadata": {
  "kernelspec": {
   "display_name": "Python 3",
   "language": "python",
   "name": "python3"
  },
  "language_info": {
   "codemirror_mode": {
    "name": "ipython",
    "version": 3
   },
   "file_extension": ".py",
   "mimetype": "text/x-python",
   "name": "python",
   "nbconvert_exporter": "python",
   "pygments_lexer": "ipython3",
   "version": "3.6.8"
  }
 },
 "nbformat": 4,
 "nbformat_minor": 2
}
