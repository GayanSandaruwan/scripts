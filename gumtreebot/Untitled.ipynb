{
 "cells": [
  {
   "cell_type": "code",
   "execution_count": 2,
   "metadata": {},
   "outputs": [],
   "source": [
    "from   selenium import webdriver\n",
    "from   selenium.common.exceptions import TimeoutException\n",
    "from selenium.webdriver.support.ui import WebDriverWait"
   ]
  },
  {
   "cell_type": "code",
   "execution_count": 17,
   "metadata": {},
   "outputs": [],
   "source": [
    "# browser = webdriver.Chrome()\n",
    "# browser = webdriver.Chrome(\"/media/gayan/Education/CiperLabs/fiver/scripts/gumtreebot/webdrivers/chromedriver\")\n",
    "browser = webdriver.Firefox(executable_path=\"/media/gayan/Education/CiperLabs/fiver/scripts/gumtreebot/webdrivers/geckodriver\") #\n",
    "browser.get(\"https://my.gumtree.com/\")"
   ]
  },
  {
   "cell_type": "code",
   "execution_count": null,
   "metadata": {},
   "outputs": [],
   "source": [
    "wait = WebDriverWait( browser, 5 )\n",
    "\n",
    "username = browser.find_element_by_name(\"username\")\n",
    "password = browser.find_element_by_name(\"password\")\n",
    "\n",
    "submit = browser.find_element_by_xpath(\"//*[@id='login-form']/div/form/fieldset/div[3]/button\")\n",
    "\n",
    "username.send_keys(\"Starsuperin2012@me.com\")\n",
    "password.send_keys(\"J3nnif3r\")\n",
    "\n",
    "wait = WebDriverWait( browser, 5 )\n",
    "\n",
    "submit.click()"
   ]
  }
 ],
 "metadata": {
  "kernelspec": {
   "display_name": "Python 3",
   "language": "python",
   "name": "python3"
  },
  "language_info": {
   "codemirror_mode": {
    "name": "ipython",
    "version": 3
   },
   "file_extension": ".py",
   "mimetype": "text/x-python",
   "name": "python",
   "nbconvert_exporter": "python",
   "pygments_lexer": "ipython3",
   "version": "3.6.8"
  }
 },
 "nbformat": 4,
 "nbformat_minor": 2
}
